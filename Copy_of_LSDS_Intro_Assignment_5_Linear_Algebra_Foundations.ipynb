{
  "nbformat": 4,
  "nbformat_minor": 0,
  "metadata": {
    "colab": {
      "name": "Copy of LSDS Intro Assignment 5 - Linear Algebra Foundations.ipynb",
      "version": "0.3.2",
      "provenance": [],
      "collapsed_sections": []
    },
    "kernelspec": {
      "name": "python3",
      "display_name": "Python 3"
    }
  },
  "cells": [
    {
      "cell_type": "markdown",
      "metadata": {
        "id": "C6GiJ7ixeOOU",
        "colab_type": "text"
      },
      "source": [
        "#Intro to Data Science Assignment 5\n",
        "##Linear Algebra Foundations\n",
        "\n",
        "For the short answers:\n",
        "     Feel free to do any additional research, but try your best to answer the questions in your own words (don't copy/paste).\n",
        "     \n",
        "For the computations by hand:\n",
        "      If you'd like to use LaTex to make things pretty, by all means give it a try, but it is *optional*. You can answer the questions using algebraic-like notation. For instance if I was adding two vectors:\n",
        "      \n",
        "[1,2] + [2,3] => (1+2), (2+3) => [3,5] \n",
        "\n",
        "**Show your work, not just the answer**\n",
        "\n",
        "For the graphs:\n",
        "   Make them as pretty as you like\n",
        "   \n",
        " For using the tools (numpy):\n",
        "    Use labeled print statements as shown"
      ]
    },
    {
      "cell_type": "markdown",
      "metadata": {
        "id": "yJJdtDoVeiYV",
        "colab_type": "text"
      },
      "source": [
        "#Short Answer Questions\n",
        "\n",
        "1) Describe a vector\n",
        "\n",
        "2) Describe a matrix\n",
        "\n",
        "3) What can we do with vectors?\n",
        "\n",
        "4) What are basis vectors?\n",
        "\n",
        "5) What is an inverse matrix?\n",
        "\n",
        "6) What is the transpose of a matrix?\n"
      ]
    },
    {
      "cell_type": "markdown",
      "metadata": {
        "id": "J2okSel_f1lS",
        "colab_type": "text"
      },
      "source": [
        "##Your Answers go here:\n",
        "\n",
        "1) A vector is a mathematical object with two specifications - size (referred to as magnitude) and direction.  A scalar has only magnitude (size). A scalar with a direction is a vector. \n",
        "\n",
        "2) A matrix is a rectangular collection of numbers fitted into one or multiple columns or rows. It is used in statistics to manipulate sets of data.\n",
        "\n",
        "3) Vectors help you do linear algebra. Vectors have many applications in mathematics, science, and data science.  \n",
        "\n",
        "4) A collection of vectors that are linearly independent - i.e. not on top of each other.  \n",
        "\n",
        "5) A matrix multiplied by its inverse matrix gives you an identity matrix (the matrix equivalent of 1). It's used since a matrix cannot be divided. \n",
        "\n",
        "6) A matrix where the row and columns are swapped. It's looks like the matrix was flipped diagonally.  "
      ]
    },
    {
      "cell_type": "code",
      "metadata": {
        "id": "nxP4aQfJj7rP",
        "colab_type": "code",
        "outputId": "94aa0a43-39ee-4dd2-8528-575e405519f7",
        "colab": {
          "base_uri": "https://localhost:8080/",
          "height": 51
        }
      },
      "source": [
        "import numpy as np\n",
        "\n",
        "a = np.array([[1,3],[2,3]])\n",
        "b = np.array([[2,2],[3,1]])\n",
        "c = np.matmul(a, b)\n",
        "\n",
        "a.dot(b)\n",
        "\n",
        "# Notice that we input the numbers as rows not columns\n",
        "#m_1 = np.matrix('1 3; 2 3')\n",
        "#print('m_1 \\n', m_1)\n",
        "\n",
        "#m_2 = np.matrix('1 ; 2')\n",
        "#print('m_2\\n', m_2)\n",
        "#m_1*m_2\n"
      ],
      "execution_count": 0,
      "outputs": [
        {
          "output_type": "execute_result",
          "data": {
            "text/plain": [
              "array([[11,  5],\n",
              "       [13,  7]])"
            ]
          },
          "metadata": {
            "tags": []
          },
          "execution_count": 19
        }
      ]
    },
    {
      "cell_type": "markdown",
      "metadata": {
        "id": "Lb-jyiXZgHfH",
        "colab_type": "text"
      },
      "source": [
        "#Computations by hand\n",
        "\n",
        "1) $ \\begin {bmatrix} 1 \\\\ 3 \\\\ 4 \\end {bmatrix} + \\begin {bmatrix} 4 \\\\ 2 \\\\ 6 \\end {bmatrix} $\n",
        "\n",
        "2) $ 5 \\begin {bmatrix} 1 \\\\ 2 \\\\ 3 \\end{bmatrix} $\n",
        "\n",
        "3) $ \\begin {bmatrix} 1  &  3\\\\ 2 & 3  \\end{bmatrix} \\begin {bmatrix} 1 \\\\ 2 \\end{bmatrix} $\n",
        "\n",
        "4) $ \\begin {bmatrix} 1  &  3\\\\ 2 & 3 \\end{bmatrix} \\begin {bmatrix} 2 & 2 \\\\ 3 & 1 \\end{bmatrix} $\n",
        "\n",
        "5) What is the transpose of :\n",
        "\n",
        "$ \\begin{bmatrix} 1 & 4 \\\\ 2 & 5 \\\\ 3 & 6 \\end{bmatrix} $ \n",
        "\n",
        "6) What is the determinant of:\n",
        "\n",
        " $\\begin {bmatrix} 2 & 2 \\\\ 3 & 1 \\end{bmatrix}$\n",
        " \n",
        " 7) What is the inverse matrix of: \n",
        " \n",
        "  $\\begin {bmatrix} 3 & 2 \\\\ 1 & 2 \\end{bmatrix}$"
      ]
    },
    {
      "cell_type": "markdown",
      "metadata": {
        "id": "LdnLfusWjcZQ",
        "colab_type": "text"
      },
      "source": [
        "## Your Answers go here:\n",
        "\n",
        "1) 1+4=5, 3+2=5, 4+6=10\n",
        "\n",
        "$ \\begin {bmatrix} 5 \\\\ 5 \\\\ 10 \\end {bmatrix} $\n",
        "\n",
        "2) 5x1=5, 5x2=10, 5x3=15 \n",
        "\n",
        "$ \\begin {bmatrix} 5 \\\\ 10 \\\\ 15 \\end {bmatrix} $\n",
        "\n",
        "3)  $ \\begin {bmatrix} 1  &  3\\\\ 2 & 3  \\end{bmatrix} \\begin {bmatrix} 1 \\\\ 2 \\end{bmatrix} $\n",
        "\n",
        "\n",
        "= 1x1 + 3x2 = 7, 2x1 +3x2 = 8\n",
        "\n",
        "\n",
        "Answer: $ \\begin {bmatrix} 7 \\\\ 8\\end {bmatrix} $\n",
        "\n",
        "4) 1x2+3x3=11, 1x2 +3x1=5, 2x2+3x3=13, 2x2+3x1=7\n",
        "\n",
        "Answer: \n",
        "\n",
        "$ \\begin {bmatrix} 11  &  5\\\\ 13 & 7 \\end{bmatrix} $\n",
        "\n",
        "5) Transpose of  $ \\begin{bmatrix} 1 & 4 \\\\ 2 & 5 \\\\ 3 & 6 \\end{bmatrix} $ is.. \n",
        "\n",
        "$ \\begin{bmatrix} 1 & 2 & 3 \\\\ 4 & 5 & 6 \\end{bmatrix} $ \n",
        "\n",
        "\n",
        "6) (2x1)-(2x3)= —4. \n",
        "\n",
        "7)Determinant is 6-2=4.\n",
        "\n",
        "Inverse is. 1/4 . $ \\begin {bmatrix} 2  &  -2\\\\ -1 & 3 \\end{bmatrix} $ =  $ \\begin {bmatrix} .5  &  -.5\\\\ -.25 & .75 \\end{bmatrix} $"
      ]
    },
    {
      "cell_type": "code",
      "metadata": {
        "id": "9owpxsIbGuWt",
        "colab_type": "code",
        "outputId": "caedfcbe-4cb5-4a14-a0b9-56f1c1334706",
        "colab": {
          "base_uri": "https://localhost:8080/",
          "height": 68
        }
      },
      "source": [
        "q = np.array([[3,2],[1,2]])\n",
        "\n",
        "inverse_q = np.linalg.inv(q)\n",
        "print('inverse of m_2:\\n',inverse_q)"
      ],
      "execution_count": 0,
      "outputs": [
        {
          "output_type": "stream",
          "text": [
            "inverse of m_2:\n",
            " [[ 0.5  -0.5 ]\n",
            " [-0.25  0.75]]\n"
          ],
          "name": "stdout"
        }
      ]
    },
    {
      "cell_type": "markdown",
      "metadata": {
        "id": "B7q5osaBjo10",
        "colab_type": "text"
      },
      "source": [
        "##Visualize the Vectors\n",
        "\n",
        "Graph the following:\n",
        "\n",
        "  Vector v_1 = [1,0] \n",
        "  \n",
        "  Vector v_2 = v_1 scaled by 2\n",
        "  \n",
        "  Vector v_3 = [0,-1]\n",
        "  \n",
        "  Vector v_4 = the sum of v_2 and v_3\n",
        " "
      ]
    },
    {
      "cell_type": "code",
      "metadata": {
        "id": "uy65IMqbeNKw",
        "colab_type": "code",
        "colab": {}
      },
      "source": [
        "# Visualize the vectors graph goes here\n",
        "\n",
        "v_1 = np.matrix('1 0')\n",
        "v_2 = list(map(lambda x:x*2, v_1))\n",
        "v_3 = np.matrix('0 -1')\n",
        "v_4 = list(map(lambda a,b: a+b, v_2, v_3))"
      ],
      "execution_count": 0,
      "outputs": []
    },
    {
      "cell_type": "markdown",
      "metadata": {
        "id": "jWDov3LvlF9C",
        "colab_type": "text"
      },
      "source": [
        "## Graph the Matrix\n",
        "\n",
        "Graph the columns and rows of this matrix: \n",
        " $\\begin {bmatrix} 2 & 2 \\\\ 3 & 1 \\end{bmatrix}$"
      ]
    },
    {
      "cell_type": "code",
      "metadata": {
        "id": "Vru0b8zOlEUQ",
        "colab_type": "code",
        "outputId": "72c8037b-2a1e-4874-a819-61d896d6224f",
        "colab": {
          "base_uri": "https://localhost:8080/",
          "height": 303
        }
      },
      "source": [
        "# Matrix graph goes here\n",
        "v_5 = np.matrix ([[2, 2] , [3,1]])\n",
        "\n",
        "import matplotlib.pyplot as plt\n",
        "plt.axis([0, 5, 0, 5])\n",
        "plt.arrow(0,0, v_5[0,0], v_5[1,0], head_width=.1, head_length=.25, color = \"red\")\n",
        "plt.arrow(0,0, v_5[0,1], v_5[1,1], head_width=.1, head_length=.25, color = \"blue\")\n",
        "plt.arrow(0,0, v_5[0,0], v_5[0,1], head_width=.1, head_length=.25, color = \"green\")\n",
        "plt.arrow(0,0, v_5[1,0], v_5[1,1], head_width=.1, head_length=.25, color = \"black\")\n",
        "\n"
      ],
      "execution_count": 50,
      "outputs": [
        {
          "output_type": "stream",
          "text": [
            "1\n"
          ],
          "name": "stdout"
        },
        {
          "output_type": "execute_result",
          "data": {
            "text/plain": [
              "<matplotlib.patches.FancyArrow at 0x7fcc67e70208>"
            ]
          },
          "metadata": {
            "tags": []
          },
          "execution_count": 50
        },
        {
          "output_type": "display_data",
          "data": {
            "image/png": "[encoded data removed]",
            "text/plain": [
              "<Figure size 432x288 with 1 Axes>"
            ]
          },
          "metadata": {
            "tags": []
          }
        }
      ]
    },
    {
      "cell_type": "markdown",
      "metadata": {
        "id": "QbBhyPwhlggH",
        "colab_type": "text"
      },
      "source": [
        "## Using the tools: NumPy Edition\n",
        "\n",
        "Use the NumPy library to compute the \"Computations by Hand\" section. Make sure to print each answer and label your print statement"
      ]
    },
    {
      "cell_type": "code",
      "metadata": {
        "id": "JcjUoEANlf8Q",
        "colab_type": "code",
        "colab": {
          "base_uri": "https://localhost:8080/",
          "height": 272
        },
        "outputId": "2ffd0ef5-8d1c-46b4-fa25-6d34890af836"
      },
      "source": [
        "# 1\n",
        "\n",
        "v_0 = np.matrix ([[1] , [3], [4]])\n",
        "v_1 = np.matrix ([[4] , [2], [6]])\n",
        "\n",
        "v_2 = np.add(v_0,v_1)\n",
        "\n",
        "print('v_2 =',  v_2)\n",
        "\n",
        "# 2\n",
        "\n",
        "v_3 = np.matrix([[1],[2],[3]])\n",
        "v_4 = np.matrix([5])\n",
        "v_5 = np.matmul(v_3, v_4)\n",
        "\n",
        "print('v_5 =',  v_5)\n",
        "\n",
        "#3\n",
        "v_6 = np.matrix([[1,3],[2,3]])\n",
        "\n",
        "v_7 = np.matrix([[1],[2]])\n",
        "\n",
        "v_8 = np.matmul(v_6, v_7)\n",
        "print('v_8 =', v_8)\n",
        "\n",
        "#4\n",
        "v_9 = np.matrix([[1,3],[2,3]])\n",
        "v_10 = np.matrix([[2,2],[3,1]])\n",
        "v_11 = np.matmul(v_9, v_10)\n",
        "print('v_11 =', v_11)\n",
        "\n",
        "#5\n",
        "\n",
        "v_12 = np.matrix([[1,4],[2,5],[3,6]])\n",
        "v_13=v_12.transpose()\n",
        "print('v_13 =', v_13)\n",
        "\n",
        "#6\n",
        "\n",
        "v_14 = np.matrix([[2,2],[3,1]])\n",
        "print('determinant of v_14 =', np.linalg.det(v_14))\n",
        "\n",
        "#7\n",
        "\n",
        "v_15 = np.matrix([[3,2],[1,2]])\n",
        "print('inverse of v_15 =', np.linalg.inv(v_15))\n",
        "\n",
        "\n",
        "\n",
        "\n"
      ],
      "execution_count": 73,
      "outputs": [
        {
          "output_type": "stream",
          "text": [
            "v_2 = [[ 5]\n",
            " [ 5]\n",
            " [10]]\n",
            "v_5 = [[ 5]\n",
            " [10]\n",
            " [15]]\n",
            "v_8 = [[7]\n",
            " [8]]\n",
            "v_11 = [[11  5]\n",
            " [13  7]]\n",
            "v_13 = [[1 2 3]\n",
            " [4 5 6]]\n",
            "determinant of v_14 = -4.000000000000001\n",
            "inverse of v_15 = [[ 0.5  -0.5 ]\n",
            " [-0.25  0.75]]\n"
          ],
          "name": "stdout"
        }
      ]
    },
    {
      "cell_type": "code",
      "metadata": {
        "id": "ZFWTUKDcGbcp",
        "colab_type": "code",
        "colab": {}
      },
      "source": [
        ""
      ],
      "execution_count": 0,
      "outputs": []
    }
  ]
}